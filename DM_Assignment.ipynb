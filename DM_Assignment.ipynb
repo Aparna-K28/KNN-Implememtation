{
  "nbformat": 4,
  "nbformat_minor": 0,
  "metadata": {
    "colab": {
      "name": "DM Assignment.ipynb",
      "provenance": [],
      "collapsed_sections": []
    },
    "kernelspec": {
      "name": "python3",
      "display_name": "Python 3"
    },
    "language_info": {
      "name": "python"
    }
  },
  "cells": [
    {
      "cell_type": "code",
      "source": [
        "import pandas as pd\n",
        "import numpy as np"
      ],
      "metadata": {
        "id": "g7HhdRT7O5PL"
      },
      "execution_count": null,
      "outputs": []
    },
    {
      "cell_type": "markdown",
      "source": [
        "TASK 1 : DATA PREPARATION"
      ],
      "metadata": {
        "id": "dkim19gJO0FC"
      }
    },
    {
      "cell_type": "markdown",
      "source": [
        "1. Load the dataset on colab"
      ],
      "metadata": {
        "id": "ArZ1GrezPYPr"
      }
    },
    {
      "cell_type": "code",
      "execution_count": null,
      "metadata": {
        "id": "Dq7LLbbCOZqM"
      },
      "outputs": [],
      "source": [
        "path = 'https://github.com/andvise/DataAnalyticsDatasets/blob/16ca8de1233c8643bfe85fcd1cd87c9ff2221312/titanic.csv?raw=true'\n",
        "df = pd.read_csv(path)"
      ]
    },
    {
      "cell_type": "markdown",
      "source": [
        "2. Display the attributes' name and theri datatype"
      ],
      "metadata": {
        "id": "gqG6JMRdPqGK"
      }
    },
    {
      "cell_type": "code",
      "source": [
        "df.dtypes"
      ],
      "metadata": {
        "colab": {
          "base_uri": "https://localhost:8080/"
        },
        "id": "kMYr8-S6PkXj",
        "outputId": "32df63cf-681b-4256-a085-ad83a0b54b71"
      },
      "execution_count": null,
      "outputs": [
        {
          "output_type": "execute_result",
          "data": {
            "text/plain": [
              "PassengerId                  int64\n",
              "Survived                     int64\n",
              "Pclass                       int64\n",
              "Name                        object\n",
              "Sex                         object\n",
              "Age                        float64\n",
              "Siblings/Spouses Aboard      int64\n",
              "Parents/Children Aboard    float64\n",
              "Fare                       float64\n",
              "dtype: object"
            ]
          },
          "metadata": {},
          "execution_count": 84
        }
      ]
    },
    {
      "cell_type": "markdown",
      "source": [
        "3. Delete the columns PassengerID and Name"
      ],
      "metadata": {
        "id": "Jsq9DrrtQPiU"
      }
    },
    {
      "cell_type": "code",
      "source": [
        "df.drop(['PassengerId','Name'],inplace=True,axis=1)"
      ],
      "metadata": {
        "id": "HvnldWMnP6Hc"
      },
      "execution_count": null,
      "outputs": []
    },
    {
      "cell_type": "code",
      "source": [
        "df"
      ],
      "metadata": {
        "colab": {
          "base_uri": "https://localhost:8080/",
          "height": 423
        },
        "id": "5IYvwluJQMu8",
        "outputId": "7f81123c-37cb-4739-8eb5-2bccf206f122"
      },
      "execution_count": null,
      "outputs": [
        {
          "output_type": "execute_result",
          "data": {
            "text/html": [
              "\n",
              "  <div id=\"df-38acf99b-5174-48aa-8e2b-c2a3734adcd4\">\n",
              "    <div class=\"colab-df-container\">\n",
              "      <div>\n",
              "<style scoped>\n",
              "    .dataframe tbody tr th:only-of-type {\n",
              "        vertical-align: middle;\n",
              "    }\n",
              "\n",
              "    .dataframe tbody tr th {\n",
              "        vertical-align: top;\n",
              "    }\n",
              "\n",
              "    .dataframe thead th {\n",
              "        text-align: right;\n",
              "    }\n",
              "</style>\n",
              "<table border=\"1\" class=\"dataframe\">\n",
              "  <thead>\n",
              "    <tr style=\"text-align: right;\">\n",
              "      <th></th>\n",
              "      <th>Survived</th>\n",
              "      <th>Pclass</th>\n",
              "      <th>Sex</th>\n",
              "      <th>Age</th>\n",
              "      <th>Siblings/Spouses Aboard</th>\n",
              "      <th>Parents/Children Aboard</th>\n",
              "      <th>Fare</th>\n",
              "    </tr>\n",
              "  </thead>\n",
              "  <tbody>\n",
              "    <tr>\n",
              "      <th>0</th>\n",
              "      <td>0</td>\n",
              "      <td>3</td>\n",
              "      <td>male</td>\n",
              "      <td>22.0</td>\n",
              "      <td>1</td>\n",
              "      <td>0.0</td>\n",
              "      <td>7.2500</td>\n",
              "    </tr>\n",
              "    <tr>\n",
              "      <th>1</th>\n",
              "      <td>1</td>\n",
              "      <td>1</td>\n",
              "      <td>female</td>\n",
              "      <td>38.0</td>\n",
              "      <td>1</td>\n",
              "      <td>0.0</td>\n",
              "      <td>71.2833</td>\n",
              "    </tr>\n",
              "    <tr>\n",
              "      <th>2</th>\n",
              "      <td>1</td>\n",
              "      <td>3</td>\n",
              "      <td>female</td>\n",
              "      <td>26.0</td>\n",
              "      <td>0</td>\n",
              "      <td>0.0</td>\n",
              "      <td>7.9250</td>\n",
              "    </tr>\n",
              "    <tr>\n",
              "      <th>3</th>\n",
              "      <td>1</td>\n",
              "      <td>1</td>\n",
              "      <td>female</td>\n",
              "      <td>35.0</td>\n",
              "      <td>1</td>\n",
              "      <td>NaN</td>\n",
              "      <td>53.1000</td>\n",
              "    </tr>\n",
              "    <tr>\n",
              "      <th>4</th>\n",
              "      <td>0</td>\n",
              "      <td>3</td>\n",
              "      <td>male</td>\n",
              "      <td>35.0</td>\n",
              "      <td>0</td>\n",
              "      <td>0.0</td>\n",
              "      <td>8.0500</td>\n",
              "    </tr>\n",
              "    <tr>\n",
              "      <th>...</th>\n",
              "      <td>...</td>\n",
              "      <td>...</td>\n",
              "      <td>...</td>\n",
              "      <td>...</td>\n",
              "      <td>...</td>\n",
              "      <td>...</td>\n",
              "      <td>...</td>\n",
              "    </tr>\n",
              "    <tr>\n",
              "      <th>882</th>\n",
              "      <td>0</td>\n",
              "      <td>2</td>\n",
              "      <td>male</td>\n",
              "      <td>27.0</td>\n",
              "      <td>0</td>\n",
              "      <td>0.0</td>\n",
              "      <td>13.0000</td>\n",
              "    </tr>\n",
              "    <tr>\n",
              "      <th>883</th>\n",
              "      <td>1</td>\n",
              "      <td>1</td>\n",
              "      <td>female</td>\n",
              "      <td>19.0</td>\n",
              "      <td>0</td>\n",
              "      <td>0.0</td>\n",
              "      <td>30.0000</td>\n",
              "    </tr>\n",
              "    <tr>\n",
              "      <th>884</th>\n",
              "      <td>0</td>\n",
              "      <td>3</td>\n",
              "      <td>female</td>\n",
              "      <td>7.0</td>\n",
              "      <td>1</td>\n",
              "      <td>2.0</td>\n",
              "      <td>23.4500</td>\n",
              "    </tr>\n",
              "    <tr>\n",
              "      <th>885</th>\n",
              "      <td>1</td>\n",
              "      <td>1</td>\n",
              "      <td>male</td>\n",
              "      <td>26.0</td>\n",
              "      <td>0</td>\n",
              "      <td>0.0</td>\n",
              "      <td>30.0000</td>\n",
              "    </tr>\n",
              "    <tr>\n",
              "      <th>886</th>\n",
              "      <td>0</td>\n",
              "      <td>3</td>\n",
              "      <td>male</td>\n",
              "      <td>32.0</td>\n",
              "      <td>0</td>\n",
              "      <td>0.0</td>\n",
              "      <td>7.7500</td>\n",
              "    </tr>\n",
              "  </tbody>\n",
              "</table>\n",
              "<p>887 rows × 7 columns</p>\n",
              "</div>\n",
              "      <button class=\"colab-df-convert\" onclick=\"convertToInteractive('df-38acf99b-5174-48aa-8e2b-c2a3734adcd4')\"\n",
              "              title=\"Convert this dataframe to an interactive table.\"\n",
              "              style=\"display:none;\">\n",
              "        \n",
              "  <svg xmlns=\"http://www.w3.org/2000/svg\" height=\"24px\"viewBox=\"0 0 24 24\"\n",
              "       width=\"24px\">\n",
              "    <path d=\"M0 0h24v24H0V0z\" fill=\"none\"/>\n",
              "    <path d=\"M18.56 5.44l.94 2.06.94-2.06 2.06-.94-2.06-.94-.94-2.06-.94 2.06-2.06.94zm-11 1L8.5 8.5l.94-2.06 2.06-.94-2.06-.94L8.5 2.5l-.94 2.06-2.06.94zm10 10l.94 2.06.94-2.06 2.06-.94-2.06-.94-.94-2.06-.94 2.06-2.06.94z\"/><path d=\"M17.41 7.96l-1.37-1.37c-.4-.4-.92-.59-1.43-.59-.52 0-1.04.2-1.43.59L10.3 9.45l-7.72 7.72c-.78.78-.78 2.05 0 2.83L4 21.41c.39.39.9.59 1.41.59.51 0 1.02-.2 1.41-.59l7.78-7.78 2.81-2.81c.8-.78.8-2.07 0-2.86zM5.41 20L4 18.59l7.72-7.72 1.47 1.35L5.41 20z\"/>\n",
              "  </svg>\n",
              "      </button>\n",
              "      \n",
              "  <style>\n",
              "    .colab-df-container {\n",
              "      display:flex;\n",
              "      flex-wrap:wrap;\n",
              "      gap: 12px;\n",
              "    }\n",
              "\n",
              "    .colab-df-convert {\n",
              "      background-color: #E8F0FE;\n",
              "      border: none;\n",
              "      border-radius: 50%;\n",
              "      cursor: pointer;\n",
              "      display: none;\n",
              "      fill: #1967D2;\n",
              "      height: 32px;\n",
              "      padding: 0 0 0 0;\n",
              "      width: 32px;\n",
              "    }\n",
              "\n",
              "    .colab-df-convert:hover {\n",
              "      background-color: #E2EBFA;\n",
              "      box-shadow: 0px 1px 2px rgba(60, 64, 67, 0.3), 0px 1px 3px 1px rgba(60, 64, 67, 0.15);\n",
              "      fill: #174EA6;\n",
              "    }\n",
              "\n",
              "    [theme=dark] .colab-df-convert {\n",
              "      background-color: #3B4455;\n",
              "      fill: #D2E3FC;\n",
              "    }\n",
              "\n",
              "    [theme=dark] .colab-df-convert:hover {\n",
              "      background-color: #434B5C;\n",
              "      box-shadow: 0px 1px 3px 1px rgba(0, 0, 0, 0.15);\n",
              "      filter: drop-shadow(0px 1px 2px rgba(0, 0, 0, 0.3));\n",
              "      fill: #FFFFFF;\n",
              "    }\n",
              "  </style>\n",
              "\n",
              "      <script>\n",
              "        const buttonEl =\n",
              "          document.querySelector('#df-38acf99b-5174-48aa-8e2b-c2a3734adcd4 button.colab-df-convert');\n",
              "        buttonEl.style.display =\n",
              "          google.colab.kernel.accessAllowed ? 'block' : 'none';\n",
              "\n",
              "        async function convertToInteractive(key) {\n",
              "          const element = document.querySelector('#df-38acf99b-5174-48aa-8e2b-c2a3734adcd4');\n",
              "          const dataTable =\n",
              "            await google.colab.kernel.invokeFunction('convertToInteractive',\n",
              "                                                     [key], {});\n",
              "          if (!dataTable) return;\n",
              "\n",
              "          const docLinkHtml = 'Like what you see? Visit the ' +\n",
              "            '<a target=\"_blank\" href=https://colab.research.google.com/notebooks/data_table.ipynb>data table notebook</a>'\n",
              "            + ' to learn more about interactive tables.';\n",
              "          element.innerHTML = '';\n",
              "          dataTable['output_type'] = 'display_data';\n",
              "          await google.colab.output.renderOutput(dataTable, element);\n",
              "          const docLink = document.createElement('div');\n",
              "          docLink.innerHTML = docLinkHtml;\n",
              "          element.appendChild(docLink);\n",
              "        }\n",
              "      </script>\n",
              "    </div>\n",
              "  </div>\n",
              "  "
            ],
            "text/plain": [
              "     Survived  Pclass     Sex   Age  Siblings/Spouses Aboard  \\\n",
              "0           0       3    male  22.0                        1   \n",
              "1           1       1  female  38.0                        1   \n",
              "2           1       3  female  26.0                        0   \n",
              "3           1       1  female  35.0                        1   \n",
              "4           0       3    male  35.0                        0   \n",
              "..        ...     ...     ...   ...                      ...   \n",
              "882         0       2    male  27.0                        0   \n",
              "883         1       1  female  19.0                        0   \n",
              "884         0       3  female   7.0                        1   \n",
              "885         1       1    male  26.0                        0   \n",
              "886         0       3    male  32.0                        0   \n",
              "\n",
              "     Parents/Children Aboard     Fare  \n",
              "0                        0.0   7.2500  \n",
              "1                        0.0  71.2833  \n",
              "2                        0.0   7.9250  \n",
              "3                        NaN  53.1000  \n",
              "4                        0.0   8.0500  \n",
              "..                       ...      ...  \n",
              "882                      0.0  13.0000  \n",
              "883                      0.0  30.0000  \n",
              "884                      2.0  23.4500  \n",
              "885                      0.0  30.0000  \n",
              "886                      0.0   7.7500  \n",
              "\n",
              "[887 rows x 7 columns]"
            ]
          },
          "metadata": {},
          "execution_count": 30
        }
      ]
    },
    {
      "cell_type": "markdown",
      "source": [
        "4. Replace all the missing values with 0"
      ],
      "metadata": {
        "id": "vyGYtA4dRgNs"
      }
    },
    {
      "cell_type": "code",
      "source": [
        "df.replace(np.nan,0,inplace=True)"
      ],
      "metadata": {
        "id": "YxOOcW0MRWtU"
      },
      "execution_count": null,
      "outputs": []
    },
    {
      "cell_type": "code",
      "source": [
        "df.isnull().any().sum()"
      ],
      "metadata": {
        "colab": {
          "base_uri": "https://localhost:8080/"
        },
        "id": "ty73WOXaSb-j",
        "outputId": "78f54086-f29d-46d0-c3ff-3ca2ee1db060"
      },
      "execution_count": null,
      "outputs": [
        {
          "output_type": "execute_result",
          "data": {
            "text/plain": [
              "0"
            ]
          },
          "metadata": {},
          "execution_count": 5
        }
      ]
    },
    {
      "cell_type": "markdown",
      "source": [
        "5. Transform the Sex column into a numerical one"
      ],
      "metadata": {
        "id": "dL4N4acqScty"
      }
    },
    {
      "cell_type": "code",
      "source": [
        "df['Sex'].replace(['male','female'],[0,1],inplace=True)\n",
        "df"
      ],
      "metadata": {
        "colab": {
          "base_uri": "https://localhost:8080/",
          "height": 423
        },
        "id": "awmpJwy6S4oK",
        "outputId": "85fbc50a-32da-4e25-ac9e-b972931440e8"
      },
      "execution_count": null,
      "outputs": [
        {
          "output_type": "execute_result",
          "data": {
            "text/plain": [
              "     Survived  Pclass  Sex   Age  Siblings/Spouses Aboard  \\\n",
              "0           0       3    0  22.0                        1   \n",
              "1           1       1    1  38.0                        1   \n",
              "2           1       3    1  26.0                        0   \n",
              "3           1       1    1  35.0                        1   \n",
              "4           0       3    0  35.0                        0   \n",
              "..        ...     ...  ...   ...                      ...   \n",
              "882         0       2    0  27.0                        0   \n",
              "883         1       1    1  19.0                        0   \n",
              "884         0       3    1   7.0                        1   \n",
              "885         1       1    0  26.0                        0   \n",
              "886         0       3    0  32.0                        0   \n",
              "\n",
              "     Parents/Children Aboard     Fare  \n",
              "0                        0.0   7.2500  \n",
              "1                        0.0  71.2833  \n",
              "2                        0.0   7.9250  \n",
              "3                        0.0  53.1000  \n",
              "4                        0.0   8.0500  \n",
              "..                       ...      ...  \n",
              "882                      0.0  13.0000  \n",
              "883                      0.0  30.0000  \n",
              "884                      2.0  23.4500  \n",
              "885                      0.0  30.0000  \n",
              "886                      0.0   7.7500  \n",
              "\n",
              "[887 rows x 7 columns]"
            ],
            "text/html": [
              "\n",
              "  <div id=\"df-a474d481-d6a2-42f5-a95b-500ea9a35d66\">\n",
              "    <div class=\"colab-df-container\">\n",
              "      <div>\n",
              "<style scoped>\n",
              "    .dataframe tbody tr th:only-of-type {\n",
              "        vertical-align: middle;\n",
              "    }\n",
              "\n",
              "    .dataframe tbody tr th {\n",
              "        vertical-align: top;\n",
              "    }\n",
              "\n",
              "    .dataframe thead th {\n",
              "        text-align: right;\n",
              "    }\n",
              "</style>\n",
              "<table border=\"1\" class=\"dataframe\">\n",
              "  <thead>\n",
              "    <tr style=\"text-align: right;\">\n",
              "      <th></th>\n",
              "      <th>Survived</th>\n",
              "      <th>Pclass</th>\n",
              "      <th>Sex</th>\n",
              "      <th>Age</th>\n",
              "      <th>Siblings/Spouses Aboard</th>\n",
              "      <th>Parents/Children Aboard</th>\n",
              "      <th>Fare</th>\n",
              "    </tr>\n",
              "  </thead>\n",
              "  <tbody>\n",
              "    <tr>\n",
              "      <th>0</th>\n",
              "      <td>0</td>\n",
              "      <td>3</td>\n",
              "      <td>0</td>\n",
              "      <td>22.0</td>\n",
              "      <td>1</td>\n",
              "      <td>0.0</td>\n",
              "      <td>7.2500</td>\n",
              "    </tr>\n",
              "    <tr>\n",
              "      <th>1</th>\n",
              "      <td>1</td>\n",
              "      <td>1</td>\n",
              "      <td>1</td>\n",
              "      <td>38.0</td>\n",
              "      <td>1</td>\n",
              "      <td>0.0</td>\n",
              "      <td>71.2833</td>\n",
              "    </tr>\n",
              "    <tr>\n",
              "      <th>2</th>\n",
              "      <td>1</td>\n",
              "      <td>3</td>\n",
              "      <td>1</td>\n",
              "      <td>26.0</td>\n",
              "      <td>0</td>\n",
              "      <td>0.0</td>\n",
              "      <td>7.9250</td>\n",
              "    </tr>\n",
              "    <tr>\n",
              "      <th>3</th>\n",
              "      <td>1</td>\n",
              "      <td>1</td>\n",
              "      <td>1</td>\n",
              "      <td>35.0</td>\n",
              "      <td>1</td>\n",
              "      <td>0.0</td>\n",
              "      <td>53.1000</td>\n",
              "    </tr>\n",
              "    <tr>\n",
              "      <th>4</th>\n",
              "      <td>0</td>\n",
              "      <td>3</td>\n",
              "      <td>0</td>\n",
              "      <td>35.0</td>\n",
              "      <td>0</td>\n",
              "      <td>0.0</td>\n",
              "      <td>8.0500</td>\n",
              "    </tr>\n",
              "    <tr>\n",
              "      <th>...</th>\n",
              "      <td>...</td>\n",
              "      <td>...</td>\n",
              "      <td>...</td>\n",
              "      <td>...</td>\n",
              "      <td>...</td>\n",
              "      <td>...</td>\n",
              "      <td>...</td>\n",
              "    </tr>\n",
              "    <tr>\n",
              "      <th>882</th>\n",
              "      <td>0</td>\n",
              "      <td>2</td>\n",
              "      <td>0</td>\n",
              "      <td>27.0</td>\n",
              "      <td>0</td>\n",
              "      <td>0.0</td>\n",
              "      <td>13.0000</td>\n",
              "    </tr>\n",
              "    <tr>\n",
              "      <th>883</th>\n",
              "      <td>1</td>\n",
              "      <td>1</td>\n",
              "      <td>1</td>\n",
              "      <td>19.0</td>\n",
              "      <td>0</td>\n",
              "      <td>0.0</td>\n",
              "      <td>30.0000</td>\n",
              "    </tr>\n",
              "    <tr>\n",
              "      <th>884</th>\n",
              "      <td>0</td>\n",
              "      <td>3</td>\n",
              "      <td>1</td>\n",
              "      <td>7.0</td>\n",
              "      <td>1</td>\n",
              "      <td>2.0</td>\n",
              "      <td>23.4500</td>\n",
              "    </tr>\n",
              "    <tr>\n",
              "      <th>885</th>\n",
              "      <td>1</td>\n",
              "      <td>1</td>\n",
              "      <td>0</td>\n",
              "      <td>26.0</td>\n",
              "      <td>0</td>\n",
              "      <td>0.0</td>\n",
              "      <td>30.0000</td>\n",
              "    </tr>\n",
              "    <tr>\n",
              "      <th>886</th>\n",
              "      <td>0</td>\n",
              "      <td>3</td>\n",
              "      <td>0</td>\n",
              "      <td>32.0</td>\n",
              "      <td>0</td>\n",
              "      <td>0.0</td>\n",
              "      <td>7.7500</td>\n",
              "    </tr>\n",
              "  </tbody>\n",
              "</table>\n",
              "<p>887 rows × 7 columns</p>\n",
              "</div>\n",
              "      <button class=\"colab-df-convert\" onclick=\"convertToInteractive('df-a474d481-d6a2-42f5-a95b-500ea9a35d66')\"\n",
              "              title=\"Convert this dataframe to an interactive table.\"\n",
              "              style=\"display:none;\">\n",
              "        \n",
              "  <svg xmlns=\"http://www.w3.org/2000/svg\" height=\"24px\"viewBox=\"0 0 24 24\"\n",
              "       width=\"24px\">\n",
              "    <path d=\"M0 0h24v24H0V0z\" fill=\"none\"/>\n",
              "    <path d=\"M18.56 5.44l.94 2.06.94-2.06 2.06-.94-2.06-.94-.94-2.06-.94 2.06-2.06.94zm-11 1L8.5 8.5l.94-2.06 2.06-.94-2.06-.94L8.5 2.5l-.94 2.06-2.06.94zm10 10l.94 2.06.94-2.06 2.06-.94-2.06-.94-.94-2.06-.94 2.06-2.06.94z\"/><path d=\"M17.41 7.96l-1.37-1.37c-.4-.4-.92-.59-1.43-.59-.52 0-1.04.2-1.43.59L10.3 9.45l-7.72 7.72c-.78.78-.78 2.05 0 2.83L4 21.41c.39.39.9.59 1.41.59.51 0 1.02-.2 1.41-.59l7.78-7.78 2.81-2.81c.8-.78.8-2.07 0-2.86zM5.41 20L4 18.59l7.72-7.72 1.47 1.35L5.41 20z\"/>\n",
              "  </svg>\n",
              "      </button>\n",
              "      \n",
              "  <style>\n",
              "    .colab-df-container {\n",
              "      display:flex;\n",
              "      flex-wrap:wrap;\n",
              "      gap: 12px;\n",
              "    }\n",
              "\n",
              "    .colab-df-convert {\n",
              "      background-color: #E8F0FE;\n",
              "      border: none;\n",
              "      border-radius: 50%;\n",
              "      cursor: pointer;\n",
              "      display: none;\n",
              "      fill: #1967D2;\n",
              "      height: 32px;\n",
              "      padding: 0 0 0 0;\n",
              "      width: 32px;\n",
              "    }\n",
              "\n",
              "    .colab-df-convert:hover {\n",
              "      background-color: #E2EBFA;\n",
              "      box-shadow: 0px 1px 2px rgba(60, 64, 67, 0.3), 0px 1px 3px 1px rgba(60, 64, 67, 0.15);\n",
              "      fill: #174EA6;\n",
              "    }\n",
              "\n",
              "    [theme=dark] .colab-df-convert {\n",
              "      background-color: #3B4455;\n",
              "      fill: #D2E3FC;\n",
              "    }\n",
              "\n",
              "    [theme=dark] .colab-df-convert:hover {\n",
              "      background-color: #434B5C;\n",
              "      box-shadow: 0px 1px 3px 1px rgba(0, 0, 0, 0.15);\n",
              "      filter: drop-shadow(0px 1px 2px rgba(0, 0, 0, 0.3));\n",
              "      fill: #FFFFFF;\n",
              "    }\n",
              "  </style>\n",
              "\n",
              "      <script>\n",
              "        const buttonEl =\n",
              "          document.querySelector('#df-a474d481-d6a2-42f5-a95b-500ea9a35d66 button.colab-df-convert');\n",
              "        buttonEl.style.display =\n",
              "          google.colab.kernel.accessAllowed ? 'block' : 'none';\n",
              "\n",
              "        async function convertToInteractive(key) {\n",
              "          const element = document.querySelector('#df-a474d481-d6a2-42f5-a95b-500ea9a35d66');\n",
              "          const dataTable =\n",
              "            await google.colab.kernel.invokeFunction('convertToInteractive',\n",
              "                                                     [key], {});\n",
              "          if (!dataTable) return;\n",
              "\n",
              "          const docLinkHtml = 'Like what you see? Visit the ' +\n",
              "            '<a target=\"_blank\" href=https://colab.research.google.com/notebooks/data_table.ipynb>data table notebook</a>'\n",
              "            + ' to learn more about interactive tables.';\n",
              "          element.innerHTML = '';\n",
              "          dataTable['output_type'] = 'display_data';\n",
              "          await google.colab.output.renderOutput(dataTable, element);\n",
              "          const docLink = document.createElement('div');\n",
              "          docLink.innerHTML = docLinkHtml;\n",
              "          element.appendChild(docLink);\n",
              "        }\n",
              "      </script>\n",
              "    </div>\n",
              "  </div>\n",
              "  "
            ]
          },
          "metadata": {},
          "execution_count": 126
        }
      ]
    },
    {
      "cell_type": "code",
      "source": [
        "df.dtypes"
      ],
      "metadata": {
        "colab": {
          "base_uri": "https://localhost:8080/"
        },
        "id": "HE_GRppLVQWC",
        "outputId": "aaa915db-62bf-4b62-c9ca-aa4aef1f4a8e"
      },
      "execution_count": null,
      "outputs": [
        {
          "output_type": "execute_result",
          "data": {
            "text/plain": [
              "Survived                     int64\n",
              "Pclass                       int64\n",
              "Sex                          int64\n",
              "Age                        float64\n",
              "Siblings/Spouses Aboard      int64\n",
              "Parents/Children Aboard    float64\n",
              "Fare                       float64\n",
              "dtype: object"
            ]
          },
          "metadata": {},
          "execution_count": 88
        }
      ]
    },
    {
      "cell_type": "markdown",
      "source": [
        "6. Use Survived as the target label and the rest of the data frame as features"
      ],
      "metadata": {
        "id": "wNuSUkgrT10h"
      }
    },
    {
      "cell_type": "code",
      "source": [
        "X = df.drop(\"Survived\",axis=1)   #Feature Matrix\n",
        "Y = df[\"Survived\"]          #Target Variable"
      ],
      "metadata": {
        "id": "y2K5NPxtWj3q"
      },
      "execution_count": null,
      "outputs": []
    },
    {
      "cell_type": "markdown",
      "source": [
        "7. Divide your dataset in 80% for training and 20% for test"
      ],
      "metadata": {
        "id": "za_jeEagXaph"
      }
    },
    {
      "cell_type": "code",
      "source": [
        "training_data = df.sample(frac=0.8,random_state=3033)\n",
        "testing_data = df.drop(training_data.index)\n",
        "x_train = training_data.drop(\"Survived\",axis=1)\n",
        "x_test = testing_data.drop(\"Survived\",axis=1)\n",
        "y_train = training_data[\"Survived\"]\n",
        "y_test = testing_data[\"Survived\"]"
      ],
      "metadata": {
        "id": "WIRQiRfWW-Up"
      },
      "execution_count": null,
      "outputs": []
    },
    {
      "cell_type": "markdown",
      "source": [
        "8. Scale the data using MinMax Scaler"
      ],
      "metadata": {
        "id": "BfiugRc31OYS"
      }
    },
    {
      "cell_type": "code",
      "source": [
        "def MinMaxScaler(column) :\n",
        "  column = (column - min(column))/(max(column) - min(column)) \n",
        "  return column \n",
        "for column in x_train :\n",
        "  x_train[column] = MinMaxScaler(x_train[column])\n",
        "\n",
        "for column in x_test : \n",
        "  x_test[column] = MinMaxScaler(x_test[column])\n",
        "\n",
        "for column in training_data :\n",
        "  training_data[column] = MinMaxScaler(training_data[column])\n",
        "\n",
        "for column in testing_data :\n",
        "  testing_data[column] = MinMaxScaler(testing_data[column])"
      ],
      "metadata": {
        "id": "TGPF8uSaW_wB"
      },
      "execution_count": null,
      "outputs": []
    },
    {
      "cell_type": "code",
      "source": [
        "x_train"
      ],
      "metadata": {
        "colab": {
          "base_uri": "https://localhost:8080/",
          "height": 423
        },
        "id": "2kbLWE-4gbZH",
        "outputId": "3aeb9b40-e8e3-4f13-edb9-f4362730f97a"
      },
      "execution_count": null,
      "outputs": [
        {
          "output_type": "execute_result",
          "data": {
            "text/plain": [
              "     Pclass  Sex       Age  Siblings/Spouses Aboard  Parents/Children Aboard  \\\n",
              "875     0.0  1.0  0.697161                    0.000                 0.166667   \n",
              "645     1.0  0.0  0.255521                    0.000                 0.000000   \n",
              "121     0.5  0.0  0.400631                    0.125                 0.000000   \n",
              "236     0.5  1.0  0.091483                    0.000                 0.333333   \n",
              "294     1.0  0.0  0.287066                    0.000                 0.000000   \n",
              "..      ...  ...       ...                      ...                      ...   \n",
              "155     1.0  1.0  0.192429                    0.000                 0.000000   \n",
              "806     1.0  0.0  0.318612                    0.000                 0.000000   \n",
              "166     1.0  1.0  0.558360                    0.125                 0.666667   \n",
              "679     1.0  0.0  0.242902                    0.000                 0.000000   \n",
              "535     1.0  0.0  0.861199                    0.000                 0.000000   \n",
              "\n",
              "         Fare  \n",
              "875  0.162314  \n",
              "645  0.014737  \n",
              "121  0.058694  \n",
              "236  0.051237  \n",
              "294  0.014110  \n",
              "..        ...  \n",
              "155  0.015094  \n",
              "806  0.015395  \n",
              "166  0.054457  \n",
              "679  0.018006  \n",
              "535  0.028302  \n",
              "\n",
              "[710 rows x 6 columns]"
            ],
            "text/html": [
              "\n",
              "  <div id=\"df-36f66e1e-f6b3-4aa8-a883-6963be080474\">\n",
              "    <div class=\"colab-df-container\">\n",
              "      <div>\n",
              "<style scoped>\n",
              "    .dataframe tbody tr th:only-of-type {\n",
              "        vertical-align: middle;\n",
              "    }\n",
              "\n",
              "    .dataframe tbody tr th {\n",
              "        vertical-align: top;\n",
              "    }\n",
              "\n",
              "    .dataframe thead th {\n",
              "        text-align: right;\n",
              "    }\n",
              "</style>\n",
              "<table border=\"1\" class=\"dataframe\">\n",
              "  <thead>\n",
              "    <tr style=\"text-align: right;\">\n",
              "      <th></th>\n",
              "      <th>Pclass</th>\n",
              "      <th>Sex</th>\n",
              "      <th>Age</th>\n",
              "      <th>Siblings/Spouses Aboard</th>\n",
              "      <th>Parents/Children Aboard</th>\n",
              "      <th>Fare</th>\n",
              "    </tr>\n",
              "  </thead>\n",
              "  <tbody>\n",
              "    <tr>\n",
              "      <th>875</th>\n",
              "      <td>0.0</td>\n",
              "      <td>1.0</td>\n",
              "      <td>0.697161</td>\n",
              "      <td>0.000</td>\n",
              "      <td>0.166667</td>\n",
              "      <td>0.162314</td>\n",
              "    </tr>\n",
              "    <tr>\n",
              "      <th>645</th>\n",
              "      <td>1.0</td>\n",
              "      <td>0.0</td>\n",
              "      <td>0.255521</td>\n",
              "      <td>0.000</td>\n",
              "      <td>0.000000</td>\n",
              "      <td>0.014737</td>\n",
              "    </tr>\n",
              "    <tr>\n",
              "      <th>121</th>\n",
              "      <td>0.5</td>\n",
              "      <td>0.0</td>\n",
              "      <td>0.400631</td>\n",
              "      <td>0.125</td>\n",
              "      <td>0.000000</td>\n",
              "      <td>0.058694</td>\n",
              "    </tr>\n",
              "    <tr>\n",
              "      <th>236</th>\n",
              "      <td>0.5</td>\n",
              "      <td>1.0</td>\n",
              "      <td>0.091483</td>\n",
              "      <td>0.000</td>\n",
              "      <td>0.333333</td>\n",
              "      <td>0.051237</td>\n",
              "    </tr>\n",
              "    <tr>\n",
              "      <th>294</th>\n",
              "      <td>1.0</td>\n",
              "      <td>0.0</td>\n",
              "      <td>0.287066</td>\n",
              "      <td>0.000</td>\n",
              "      <td>0.000000</td>\n",
              "      <td>0.014110</td>\n",
              "    </tr>\n",
              "    <tr>\n",
              "      <th>...</th>\n",
              "      <td>...</td>\n",
              "      <td>...</td>\n",
              "      <td>...</td>\n",
              "      <td>...</td>\n",
              "      <td>...</td>\n",
              "      <td>...</td>\n",
              "    </tr>\n",
              "    <tr>\n",
              "      <th>155</th>\n",
              "      <td>1.0</td>\n",
              "      <td>1.0</td>\n",
              "      <td>0.192429</td>\n",
              "      <td>0.000</td>\n",
              "      <td>0.000000</td>\n",
              "      <td>0.015094</td>\n",
              "    </tr>\n",
              "    <tr>\n",
              "      <th>806</th>\n",
              "      <td>1.0</td>\n",
              "      <td>0.0</td>\n",
              "      <td>0.318612</td>\n",
              "      <td>0.000</td>\n",
              "      <td>0.000000</td>\n",
              "      <td>0.015395</td>\n",
              "    </tr>\n",
              "    <tr>\n",
              "      <th>166</th>\n",
              "      <td>1.0</td>\n",
              "      <td>1.0</td>\n",
              "      <td>0.558360</td>\n",
              "      <td>0.125</td>\n",
              "      <td>0.666667</td>\n",
              "      <td>0.054457</td>\n",
              "    </tr>\n",
              "    <tr>\n",
              "      <th>679</th>\n",
              "      <td>1.0</td>\n",
              "      <td>0.0</td>\n",
              "      <td>0.242902</td>\n",
              "      <td>0.000</td>\n",
              "      <td>0.000000</td>\n",
              "      <td>0.018006</td>\n",
              "    </tr>\n",
              "    <tr>\n",
              "      <th>535</th>\n",
              "      <td>1.0</td>\n",
              "      <td>0.0</td>\n",
              "      <td>0.861199</td>\n",
              "      <td>0.000</td>\n",
              "      <td>0.000000</td>\n",
              "      <td>0.028302</td>\n",
              "    </tr>\n",
              "  </tbody>\n",
              "</table>\n",
              "<p>710 rows × 6 columns</p>\n",
              "</div>\n",
              "      <button class=\"colab-df-convert\" onclick=\"convertToInteractive('df-36f66e1e-f6b3-4aa8-a883-6963be080474')\"\n",
              "              title=\"Convert this dataframe to an interactive table.\"\n",
              "              style=\"display:none;\">\n",
              "        \n",
              "  <svg xmlns=\"http://www.w3.org/2000/svg\" height=\"24px\"viewBox=\"0 0 24 24\"\n",
              "       width=\"24px\">\n",
              "    <path d=\"M0 0h24v24H0V0z\" fill=\"none\"/>\n",
              "    <path d=\"M18.56 5.44l.94 2.06.94-2.06 2.06-.94-2.06-.94-.94-2.06-.94 2.06-2.06.94zm-11 1L8.5 8.5l.94-2.06 2.06-.94-2.06-.94L8.5 2.5l-.94 2.06-2.06.94zm10 10l.94 2.06.94-2.06 2.06-.94-2.06-.94-.94-2.06-.94 2.06-2.06.94z\"/><path d=\"M17.41 7.96l-1.37-1.37c-.4-.4-.92-.59-1.43-.59-.52 0-1.04.2-1.43.59L10.3 9.45l-7.72 7.72c-.78.78-.78 2.05 0 2.83L4 21.41c.39.39.9.59 1.41.59.51 0 1.02-.2 1.41-.59l7.78-7.78 2.81-2.81c.8-.78.8-2.07 0-2.86zM5.41 20L4 18.59l7.72-7.72 1.47 1.35L5.41 20z\"/>\n",
              "  </svg>\n",
              "      </button>\n",
              "      \n",
              "  <style>\n",
              "    .colab-df-container {\n",
              "      display:flex;\n",
              "      flex-wrap:wrap;\n",
              "      gap: 12px;\n",
              "    }\n",
              "\n",
              "    .colab-df-convert {\n",
              "      background-color: #E8F0FE;\n",
              "      border: none;\n",
              "      border-radius: 50%;\n",
              "      cursor: pointer;\n",
              "      display: none;\n",
              "      fill: #1967D2;\n",
              "      height: 32px;\n",
              "      padding: 0 0 0 0;\n",
              "      width: 32px;\n",
              "    }\n",
              "\n",
              "    .colab-df-convert:hover {\n",
              "      background-color: #E2EBFA;\n",
              "      box-shadow: 0px 1px 2px rgba(60, 64, 67, 0.3), 0px 1px 3px 1px rgba(60, 64, 67, 0.15);\n",
              "      fill: #174EA6;\n",
              "    }\n",
              "\n",
              "    [theme=dark] .colab-df-convert {\n",
              "      background-color: #3B4455;\n",
              "      fill: #D2E3FC;\n",
              "    }\n",
              "\n",
              "    [theme=dark] .colab-df-convert:hover {\n",
              "      background-color: #434B5C;\n",
              "      box-shadow: 0px 1px 3px 1px rgba(0, 0, 0, 0.15);\n",
              "      filter: drop-shadow(0px 1px 2px rgba(0, 0, 0, 0.3));\n",
              "      fill: #FFFFFF;\n",
              "    }\n",
              "  </style>\n",
              "\n",
              "      <script>\n",
              "        const buttonEl =\n",
              "          document.querySelector('#df-36f66e1e-f6b3-4aa8-a883-6963be080474 button.colab-df-convert');\n",
              "        buttonEl.style.display =\n",
              "          google.colab.kernel.accessAllowed ? 'block' : 'none';\n",
              "\n",
              "        async function convertToInteractive(key) {\n",
              "          const element = document.querySelector('#df-36f66e1e-f6b3-4aa8-a883-6963be080474');\n",
              "          const dataTable =\n",
              "            await google.colab.kernel.invokeFunction('convertToInteractive',\n",
              "                                                     [key], {});\n",
              "          if (!dataTable) return;\n",
              "\n",
              "          const docLinkHtml = 'Like what you see? Visit the ' +\n",
              "            '<a target=\"_blank\" href=https://colab.research.google.com/notebooks/data_table.ipynb>data table notebook</a>'\n",
              "            + ' to learn more about interactive tables.';\n",
              "          element.innerHTML = '';\n",
              "          dataTable['output_type'] = 'display_data';\n",
              "          await google.colab.output.renderOutput(dataTable, element);\n",
              "          const docLink = document.createElement('div');\n",
              "          docLink.innerHTML = docLinkHtml;\n",
              "          element.appendChild(docLink);\n",
              "        }\n",
              "      </script>\n",
              "    </div>\n",
              "  </div>\n",
              "  "
            ]
          },
          "metadata": {},
          "execution_count": 195
        }
      ]
    },
    {
      "cell_type": "code",
      "source": [
        "training_data.shape"
      ],
      "metadata": {
        "colab": {
          "base_uri": "https://localhost:8080/"
        },
        "id": "jY__QmyUcxOz",
        "outputId": "3bf1de78-1855-42e7-ede8-7feb66181a02"
      },
      "execution_count": null,
      "outputs": [
        {
          "output_type": "execute_result",
          "data": {
            "text/plain": [
              "(710, 7)"
            ]
          },
          "metadata": {},
          "execution_count": 43
        }
      ]
    },
    {
      "cell_type": "code",
      "source": [
        "testing_data.shape"
      ],
      "metadata": {
        "colab": {
          "base_uri": "https://localhost:8080/"
        },
        "id": "nVS6mpf2h2rl",
        "outputId": "0bd7fe55-9376-4d95-fa5a-9af0a495126a"
      },
      "execution_count": null,
      "outputs": [
        {
          "output_type": "execute_result",
          "data": {
            "text/plain": [
              "(177, 7)"
            ]
          },
          "metadata": {},
          "execution_count": 44
        }
      ]
    },
    {
      "cell_type": "markdown",
      "source": [
        "**kNN IMPLEMENTATION**"
      ],
      "metadata": {
        "id": "dYckEBZ-h-He"
      }
    },
    {
      "cell_type": "code",
      "source": [
        "def EuclideanDistance(test_point) :\n",
        "  test_point = np.array(test_point)\n",
        "  euclid_dist = []\n",
        "  for i in range(len(x_train)) :\n",
        "    row = x_train.iloc[i,:]\n",
        "    row_array = np.array(row)\n",
        "    euclidean_distance = np.linalg.norm(row_array - test_point)\n",
        "    euclid_dist.append(euclidean_distance)\n",
        "  return euclid_dist"
      ],
      "metadata": {
        "id": "D1pDc6A_MLJf"
      },
      "execution_count": null,
      "outputs": []
    },
    {
      "cell_type": "code",
      "source": [
        "def kNN(k) :\n",
        "  y = {}\n",
        "  y_label = []\n",
        "  label = []\n",
        "  for i in range(0, len(x_test)) :\n",
        "    distances = []\n",
        "    y_label = []\n",
        "    y = {}\n",
        "    distances = EuclideanDistance(x_test.iloc[i,:])\n",
        "    index = np.argsort(distances)[:k]\n",
        "    for i in index :\n",
        "      y_label.append(y_train.iloc[i])\n",
        "    for i in y_label :\n",
        "      if i in y.keys() :\n",
        "        y[i] += 1\n",
        "      else :\n",
        "        y[i] = 1\n",
        "    max_val = max(y.values())\n",
        "    for i in y.keys() :\n",
        "      if y[i] == max_val :\n",
        "        label.append(i) \n",
        "  return label  \n"
      ],
      "metadata": {
        "id": "ql3c0XYnEWVR"
      },
      "execution_count": null,
      "outputs": []
    },
    {
      "cell_type": "code",
      "source": [
        "kNN_results = {}\n",
        "k_values = [1,3,5,7,9,11]\n",
        "for i in k_values :\n",
        "  kNN_results[i] = kNN(i)"
      ],
      "metadata": {
        "id": "HtmHRORPPqUU"
      },
      "execution_count": null,
      "outputs": []
    },
    {
      "cell_type": "code",
      "source": [
        "results = {}\n",
        "for i in k_values :\n",
        "  results[i] = pd.DataFrame({'Predicted' : y_test, 'Actual' : kNN_results[i]})"
      ],
      "metadata": {
        "id": "y3DJo_DHP_fB"
      },
      "execution_count": null,
      "outputs": []
    },
    {
      "cell_type": "code",
      "source": [
        "ConfusionMatrix = {}\n",
        "for i in k_values :\n",
        "  ConfusionMatrix[i] = pd.crosstab(results[i]['Predicted'], results[i]['Actual'])\n",
        "  print('Confusion Matrix for k = ',i,':\\n',ConfusionMatrix[i],'\\n')\n",
        "  "
      ],
      "metadata": {
        "colab": {
          "base_uri": "https://localhost:8080/"
        },
        "id": "LOp8sVIUQhN7",
        "outputId": "8b882656-a783-4b36-ca3d-70cfbc40ba7d"
      },
      "execution_count": null,
      "outputs": [
        {
          "output_type": "stream",
          "name": "stdout",
          "text": [
            "Confusion Matrix for k =  1 :\n",
            " Actual      0   1\n",
            "Predicted        \n",
            "0          88  13\n",
            "1          22  54 \n",
            "\n",
            "Confusion Matrix for k =  3 :\n",
            " Actual      0   1\n",
            "Predicted        \n",
            "0          90  11\n",
            "1          26  50 \n",
            "\n",
            "Confusion Matrix for k =  5 :\n",
            " Actual      0   1\n",
            "Predicted        \n",
            "0          91  10\n",
            "1          26  50 \n",
            "\n",
            "Confusion Matrix for k =  7 :\n",
            " Actual      0   1\n",
            "Predicted        \n",
            "0          94   7\n",
            "1          26  50 \n",
            "\n",
            "Confusion Matrix for k =  9 :\n",
            " Actual      0   1\n",
            "Predicted        \n",
            "0          94   7\n",
            "1          27  49 \n",
            "\n",
            "Confusion Matrix for k =  11 :\n",
            " Actual      0   1\n",
            "Predicted        \n",
            "0          94   7\n",
            "1          25  51 \n",
            "\n"
          ]
        }
      ]
    },
    {
      "cell_type": "code",
      "source": [
        "accuracies = {}\n",
        "for i in k_values :\n",
        "   accuracies[i] = np.diag(ConfusionMatrix[i]).sum()/ConfusionMatrix[i].to_numpy().sum()\n",
        "   print('Accuracy for k =',i,'is :',accuracies[i],'\\n')\n"
      ],
      "metadata": {
        "colab": {
          "base_uri": "https://localhost:8080/"
        },
        "id": "1WM5DKBBRALd",
        "outputId": "85891c32-b954-4d4b-b788-8c0802aba5ef"
      },
      "execution_count": null,
      "outputs": [
        {
          "output_type": "stream",
          "name": "stdout",
          "text": [
            "Accuracy for k = 1 is : 0.8022598870056498 \n",
            "\n",
            "Accuracy for k = 3 is : 0.7909604519774012 \n",
            "\n",
            "Accuracy for k = 5 is : 0.7966101694915254 \n",
            "\n",
            "Accuracy for k = 7 is : 0.8135593220338984 \n",
            "\n",
            "Accuracy for k = 9 is : 0.807909604519774 \n",
            "\n",
            "Accuracy for k = 11 is : 0.8192090395480226 \n",
            "\n"
          ]
        }
      ]
    },
    {
      "cell_type": "markdown",
      "source": [
        "**Weighted kNN**"
      ],
      "metadata": {
        "id": "pvqnraq3klDH"
      }
    },
    {
      "cell_type": "code",
      "source": [
        "def Weighted_KNN(k) :\n",
        "  y = {}\n",
        "  y_label = []\n",
        "  label = []\n",
        "  for i in range(0, len(x_test)) :\n",
        "    distances = []\n",
        "    y_label = []\n",
        "    y = {}\n",
        "    weight = []\n",
        "    distances = EuclideanDistance(x_test.iloc[i,:])\n",
        "    index = np.argsort(distances)[:k]\n",
        "    for i in index :\n",
        "      y_label.append(y_train.iloc[i])\n",
        "      weight.append(1/(distances[i] + 0.00001)**2)\n",
        "    for i in range(0,len(y_label)) :\n",
        "      if y_label[i] in y.keys() :\n",
        "        y[y_label[i]] += weight[i]\n",
        "      else :\n",
        "        y[y_label[i]] = weight[i]\n",
        "    max_val = max(y.values())\n",
        "    for i in y.keys() :\n",
        "      if y[i] == max_val :\n",
        "        label.append(i) \n",
        "  return label  \n"
      ],
      "metadata": {
        "id": "IyLOjk-Pp-_z"
      },
      "execution_count": null,
      "outputs": []
    },
    {
      "cell_type": "code",
      "source": [
        "def Weighted_KNN_1(k) :\n",
        "  y = {}\n",
        "  y_label = []\n",
        "  label = []\n",
        "  for i in range(0, len(x_test)) :\n",
        "    distances = []\n",
        "    y_label = []\n",
        "    y = {}\n",
        "    weight = []\n",
        "    distances = EuclideanDistance(x_test.iloc[i,:])\n",
        "    for i in distances :\n",
        "      weight.append(1/(i + 0.00001)**2)\n",
        "    index = np.argsort(weight)[::-1][:k]\n",
        "    for i in index :\n",
        "      y_label.append(y_train.iloc[i])\n",
        "    for i in range(0,len(y_label)) :\n",
        "      if y_label[i] in y.keys() :\n",
        "        y[y_label[i]] += weight[i]\n",
        "      else :\n",
        "        y[y_label[i]] = weight[i]\n",
        "    max_val = max(y.values())\n",
        "    for i in y.keys() :\n",
        "      if y[i] == max_val :\n",
        "        label.append(i) \n",
        "  return label  "
      ],
      "metadata": {
        "id": "RN43wHwSJ8jO"
      },
      "execution_count": null,
      "outputs": []
    },
    {
      "cell_type": "code",
      "source": [
        "Weighted_kNN_results = {}\n",
        "k_values = [1,3,5,7,9,11]\n",
        "for i in k_values :\n",
        "  Weighted_kNN_results[i] = Weighted_KNN(i)"
      ],
      "metadata": {
        "id": "52NXbsbAMSnJ"
      },
      "execution_count": null,
      "outputs": []
    },
    {
      "cell_type": "code",
      "source": [
        "weighted_results = {}\n",
        "for i in k_values :\n",
        "  weighted_results[i] = pd.DataFrame({'Predicted' : y_test, 'Actual' : Weighted_kNN_results[i]})"
      ],
      "metadata": {
        "id": "e0N0mc7CTSNR"
      },
      "execution_count": null,
      "outputs": []
    },
    {
      "cell_type": "code",
      "source": [
        "WeightedConfusionMatrix = {}\n",
        "for i in k_values :\n",
        "  WeightedConfusionMatrix[i] = pd.crosstab(weighted_results[i]['Predicted'], weighted_results[i]['Actual'])\n",
        "  print('Confusion Matrix for k =',i,':\\n',WeightedConfusionMatrix[i],'\\n')"
      ],
      "metadata": {
        "colab": {
          "base_uri": "https://localhost:8080/"
        },
        "id": "QFqLlrnvTZwq",
        "outputId": "bdcaeb43-3d0f-4108-ea46-f969182c16a2"
      },
      "execution_count": null,
      "outputs": [
        {
          "output_type": "stream",
          "name": "stdout",
          "text": [
            "Confusion Matrix for k = 1 :\n",
            " Actual      0   1\n",
            "Predicted        \n",
            "0          88  13\n",
            "1          22  54 \n",
            "\n",
            "Confusion Matrix for k = 3 :\n",
            " Actual      0   1\n",
            "Predicted        \n",
            "0          89  12\n",
            "1          24  52 \n",
            "\n",
            "Confusion Matrix for k = 5 :\n",
            " Actual      0   1\n",
            "Predicted        \n",
            "0          91  10\n",
            "1          24  52 \n",
            "\n",
            "Confusion Matrix for k = 7 :\n",
            " Actual      0   1\n",
            "Predicted        \n",
            "0          92   9\n",
            "1          24  52 \n",
            "\n",
            "Confusion Matrix for k = 9 :\n",
            " Actual      0   1\n",
            "Predicted        \n",
            "0          91  10\n",
            "1          24  52 \n",
            "\n",
            "Confusion Matrix for k = 11 :\n",
            " Actual      0   1\n",
            "Predicted        \n",
            "0          92   9\n",
            "1          24  52 \n",
            "\n"
          ]
        }
      ]
    },
    {
      "cell_type": "code",
      "source": [
        "w_accuracies = {}\n",
        "for i in k_values :\n",
        "   w_accuracies[i] = np.diag(WeightedConfusionMatrix[i]).sum()/WeightedConfusionMatrix[i].to_numpy().sum()\n",
        "   print('Accuracy for k =',i,'is :',w_accuracies[i],'\\n')"
      ],
      "metadata": {
        "colab": {
          "base_uri": "https://localhost:8080/"
        },
        "id": "HW4ZRxbiTir0",
        "outputId": "6cc406f8-95a6-485a-9d04-b0f9a862d7a3"
      },
      "execution_count": null,
      "outputs": [
        {
          "output_type": "stream",
          "name": "stdout",
          "text": [
            "Accuracy for k = 1 is : 0.8022598870056498 \n",
            "\n",
            "Accuracy for k = 3 is : 0.7966101694915254 \n",
            "\n",
            "Accuracy for k = 5 is : 0.807909604519774 \n",
            "\n",
            "Accuracy for k = 7 is : 0.8135593220338984 \n",
            "\n",
            "Accuracy for k = 9 is : 0.807909604519774 \n",
            "\n",
            "Accuracy for k = 11 is : 0.8135593220338984 \n",
            "\n"
          ]
        }
      ]
    }
  ]
}